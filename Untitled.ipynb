{
 "cells": [
  {
   "cell_type": "code",
   "execution_count": 41,
   "metadata": {
    "collapsed": true
   },
   "outputs": [],
   "source": [
    "# model parameters:\n",
    "g = 9.8      # gravity in m s^{-2}\n",
    "v_t = 4.9   # trim velocity in m s^{-1}\n",
    "C_D = 1/5  # drag coefficient --- or D/L if C_L=1\n",
    "C_L = 1   # for convenience, use C_L = 1\n",
    "\n",
    "### set initial conditions ###\n",
    "x0 = 0.0     # horizotal position\n",
    "y0 = 5.0     # initial altitude\n",
    "v0 = 10.0     # Initial starting value in velocity range"
   ]
  },
  {
   "cell_type": "code",
   "execution_count": 42,
   "metadata": {
    "collapsed": true
   },
   "outputs": [],
   "source": [
    "from math import sin, cos, log, ceil\n",
    "import numpy\n",
    "from matplotlib import pyplot\n",
    "%matplotlib inline\n",
    "from matplotlib import rcParams\n",
    "rcParams['font.family'] = 'serif'\n",
    "rcParams['font.size'] = 16"
   ]
  },
  {
   "cell_type": "code",
   "execution_count": 43,
   "metadata": {
    "collapsed": true
   },
   "outputs": [],
   "source": [
    "def f(u):\n",
    "    \"\"\"Returns the right-hand side of the phugoid system of equations.\n",
    "    \n",
    "    Parameters\n",
    "    ----------\n",
    "    u : array of float\n",
    "        array containing the solution at time n.\n",
    "        \n",
    "    Returns\n",
    "    -------\n",
    "    dudt : array of float\n",
    "        array containing the RHS given u.\n",
    "    \"\"\"\n",
    "    \n",
    "    v = u[0]\n",
    "    theta = u[1]\n",
    "    x = u[2]\n",
    "    y = u[3]\n",
    "    return numpy.array([-g*sin(theta) - C_D/C_L*g/v_t**2*v**2,\n",
    "                      -g*cos(theta)/v + g/v_t**2*v,\n",
    "                      v*cos(theta),\n",
    "                      v*sin(theta)])"
   ]
  },
  {
   "cell_type": "code",
   "execution_count": 44,
   "metadata": {
    "collapsed": true
   },
   "outputs": [],
   "source": [
    "def euler_step(u, f, dt):\n",
    "    \"\"\"Returns the solution at the next time-step using Euler's method.\n",
    "    \n",
    "    Parameters\n",
    "    ----------\n",
    "    u : array of float\n",
    "        solution at the previous time-step.\n",
    "    f : function\n",
    "        function to compute the right hand-side of the system of equation.\n",
    "    dt : float\n",
    "        time-increment.\n",
    "    \n",
    "    Returns\n",
    "    -------\n",
    "    u_n_plus_1 : array of float\n",
    "        approximate solution at the next time step.\n",
    "    \"\"\"\n",
    "    \n",
    "    return u + dt * f(u)"
   ]
  },
  {
   "cell_type": "code",
   "execution_count": 48,
   "metadata": {
    "collapsed": false
   },
   "outputs": [],
   "source": [
    "theta0 = numpy.arange(0.0, 75.25, 0.25)"
   ]
  },
  {
   "cell_type": "code",
   "execution_count": 49,
   "metadata": {
    "collapsed": false
   },
   "outputs": [
    {
     "name": "stdout",
     "output_type": "stream",
     "text": [
      "[  0.     0.25   0.5    0.75   1.     1.25   1.5    1.75   2.     2.25\n",
      "   2.5    2.75   3.     3.25   3.5    3.75   4.     4.25   4.5    4.75   5.\n",
      "   5.25   5.5    5.75   6.     6.25   6.5    6.75   7.     7.25   7.5\n",
      "   7.75   8.     8.25   8.5    8.75   9.     9.25   9.5    9.75  10.    10.25\n",
      "  10.5   10.75  11.    11.25  11.5   11.75  12.    12.25  12.5   12.75  13.\n",
      "  13.25  13.5   13.75  14.    14.25  14.5   14.75  15.    15.25  15.5\n",
      "  15.75  16.    16.25  16.5   16.75  17.    17.25  17.5   17.75  18.    18.25\n",
      "  18.5   18.75  19.    19.25  19.5   19.75  20.    20.25  20.5   20.75  21.\n",
      "  21.25  21.5   21.75  22.    22.25  22.5   22.75  23.    23.25  23.5\n",
      "  23.75  24.    24.25  24.5   24.75  25.    25.25  25.5   25.75  26.    26.25\n",
      "  26.5   26.75  27.    27.25  27.5   27.75  28.    28.25  28.5   28.75  29.\n",
      "  29.25  29.5   29.75  30.    30.25  30.5   30.75  31.    31.25  31.5\n",
      "  31.75  32.    32.25  32.5   32.75  33.    33.25  33.5   33.75  34.    34.25\n",
      "  34.5   34.75  35.    35.25  35.5   35.75  36.    36.25  36.5   36.75  37.\n",
      "  37.25  37.5   37.75  38.    38.25  38.5   38.75  39.    39.25  39.5\n",
      "  39.75  40.    40.25  40.5   40.75  41.    41.25  41.5   41.75  42.    42.25\n",
      "  42.5   42.75  43.    43.25  43.5   43.75  44.    44.25  44.5   44.75  45.\n",
      "  45.25  45.5   45.75  46.    46.25  46.5   46.75  47.    47.25  47.5\n",
      "  47.75  48.    48.25  48.5   48.75  49.    49.25  49.5   49.75  50.    50.25\n",
      "  50.5   50.75  51.    51.25  51.5   51.75  52.    52.25  52.5   52.75  53.\n",
      "  53.25  53.5   53.75  54.    54.25  54.5   54.75  55.    55.25  55.5\n",
      "  55.75  56.    56.25  56.5   56.75  57.    57.25  57.5   57.75  58.    58.25\n",
      "  58.5   58.75  59.    59.25  59.5   59.75  60.    60.25  60.5   60.75  61.\n",
      "  61.25  61.5   61.75  62.    62.25  62.5   62.75  63.    63.25  63.5\n",
      "  63.75  64.    64.25  64.5   64.75  65.    65.25  65.5   65.75  66.    66.25\n",
      "  66.5   66.75  67.    67.25  67.5   67.75  68.    68.25  68.5   68.75  69.\n",
      "  69.25  69.5   69.75  70.    70.25  70.5   70.75  71.    71.25  71.5\n",
      "  71.75  72.    72.25  72.5   72.75  73.    73.25  73.5   73.75  74.    74.25\n",
      "  74.5   74.75  75.  ]\n"
     ]
    }
   ],
   "source": [
    "print(theta0)"
   ]
  },
  {
   "cell_type": "code",
   "execution_count": 46,
   "metadata": {
    "collapsed": false
   },
   "outputs": [
    {
     "ename": "ValueError",
     "evalue": "setting an array element with a sequence.",
     "output_type": "error",
     "traceback": [
      "\u001b[1;31m---------------------------------------------------------------------------\u001b[0m",
      "\u001b[1;31mValueError\u001b[0m                                Traceback (most recent call last)",
      "\u001b[1;32m<ipython-input-46-c3308c789d9b>\u001b[0m in \u001b[0;36m<module>\u001b[1;34m()\u001b[0m\n\u001b[0;32m      6\u001b[0m \u001b[1;31m# initialize the array containing the solution for each time-step\u001b[0m\u001b[1;33m\u001b[0m\u001b[1;33m\u001b[0m\u001b[0m\n\u001b[0;32m      7\u001b[0m \u001b[0mu\u001b[0m \u001b[1;33m=\u001b[0m \u001b[0mnumpy\u001b[0m\u001b[1;33m.\u001b[0m\u001b[0mempty\u001b[0m\u001b[1;33m(\u001b[0m\u001b[1;33m(\u001b[0m\u001b[0mN\u001b[0m\u001b[1;33m,\u001b[0m \u001b[1;36m4\u001b[0m\u001b[1;33m)\u001b[0m\u001b[1;33m)\u001b[0m\u001b[1;33m\u001b[0m\u001b[0m\n\u001b[1;32m----> 8\u001b[1;33m \u001b[0mu\u001b[0m\u001b[1;33m[\u001b[0m\u001b[1;36m0\u001b[0m\u001b[1;33m]\u001b[0m \u001b[1;33m=\u001b[0m \u001b[0mnumpy\u001b[0m\u001b[1;33m.\u001b[0m\u001b[0marray\u001b[0m\u001b[1;33m(\u001b[0m\u001b[1;33m[\u001b[0m\u001b[0mv0\u001b[0m\u001b[1;33m,\u001b[0m \u001b[0mtheta0\u001b[0m\u001b[1;33m,\u001b[0m \u001b[0mx0\u001b[0m\u001b[1;33m,\u001b[0m \u001b[0my0\u001b[0m\u001b[1;33m]\u001b[0m\u001b[1;33m)\u001b[0m\u001b[1;31m# fill 1st element with initial values\u001b[0m\u001b[1;33m\u001b[0m\u001b[0m\n\u001b[0m\u001b[0;32m      9\u001b[0m \u001b[1;33m\u001b[0m\u001b[0m\n\u001b[0;32m     10\u001b[0m \u001b[1;31m# time loop - Euler method\u001b[0m\u001b[1;33m\u001b[0m\u001b[1;33m\u001b[0m\u001b[0m\n",
      "\u001b[1;31mValueError\u001b[0m: setting an array element with a sequence."
     ]
    }
   ],
   "source": [
    "T = 100                         # final time\n",
    "dt = 0.01                       # time increment\n",
    "N = int(T/dt) + 1               # number of time-steps\n",
    "t = numpy.linspace(0, T, N)     # time discretization\n",
    "\n",
    "# initialize the array containing the solution for each time-step\n",
    "u = numpy.empty((N, 4))\n",
    "u[0] = numpy.array([v0, theta0, x0, y0])# fill 1st element with initial values\n",
    "\n",
    "# time loop - Euler method\n",
    "for n in range(N-1):\n",
    "    \n",
    "    u[n+1] = euler_step(u[n], f, dt)"
   ]
  },
  {
   "cell_type": "code",
   "execution_count": null,
   "metadata": {
    "collapsed": true
   },
   "outputs": [],
   "source": []
  }
 ],
 "metadata": {
  "kernelspec": {
   "display_name": "Python 3",
   "language": "python",
   "name": "python3"
  },
  "language_info": {
   "codemirror_mode": {
    "name": "ipython",
    "version": 3
   },
   "file_extension": ".py",
   "mimetype": "text/x-python",
   "name": "python",
   "nbconvert_exporter": "python",
   "pygments_lexer": "ipython3",
   "version": "3.4.3"
  }
 },
 "nbformat": 4,
 "nbformat_minor": 0
}
